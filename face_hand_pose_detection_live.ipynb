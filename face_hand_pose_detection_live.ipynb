{
 "cells": [
  {
   "cell_type": "code",
   "execution_count": 58,
   "id": "4b4d0240-eff8-4b13-9995-4327bfacbf60",
   "metadata": {},
   "outputs": [],
   "source": [
    "#!pip install mediaPipe\n",
    "#!pip install opencv-python"
   ]
  },
  {
   "cell_type": "code",
   "execution_count": 59,
   "id": "0870721f-9b25-4f37-9fa5-69e2993adad6",
   "metadata": {},
   "outputs": [],
   "source": [
    "import mediapipe as mp\n",
    "import cv2 as cv"
   ]
  },
  {
   "cell_type": "code",
   "execution_count": 60,
   "id": "beaf9307-4de4-4340-822d-227508806887",
   "metadata": {},
   "outputs": [],
   "source": [
    "mp_d=mp.solutions.drawing_utils\n",
    "mp_h=mp.solutions.holistic"
   ]
  },
  {
   "cell_type": "code",
   "execution_count": 61,
   "id": "27e6fc33-2b3b-4dfb-93e8-78a2a79cd07c",
   "metadata": {},
   "outputs": [
    {
     "data": {
      "text/plain": [
       "\"\\ncam=cv.VideoCapture(0)\\nwhile cam.isOpened():\\n    r,frame=cam.read()\\n    cv.imshow('live feed',frame)\\n    if cv.waitKey(15) & 0xFF==ord('q'):\\n         break\\n\\ncam.release()\\ncv.destroyAllWindows()  \\n\""
      ]
     },
     "execution_count": 61,
     "metadata": {},
     "output_type": "execute_result"
    }
   ],
   "source": [
    "'''\n",
    "cam=cv.VideoCapture(0)\n",
    "while cam.isOpened():\n",
    "    r,frame=cam.read()\n",
    "    cv.imshow('live feed',frame)\n",
    "    if cv.waitKey(15) & 0xFF==ord('q'):\n",
    "         break\n",
    "\n",
    "cam.release()\n",
    "cv.destroyAllWindows()  \n",
    "'''"
   ]
  },
  {
   "cell_type": "code",
   "execution_count": 64,
   "id": "7619ccc1-8637-4154-9eb9-4227f8d51485",
   "metadata": {},
   "outputs": [],
   "source": [
    "cam=cv.VideoCapture(0)\n",
    "with mp_h.Holistic(min_detection_confidence=0.4,min_tracking_confidence=0.4) as holistic:\n",
    "\n",
    "    while cam.isOpened():\n",
    "        r,frame=cam.read()\n",
    "        image=cv.cvtColor(frame,cv.COLOR_BGR2RGB)\n",
    "        results= holistic.process(image)\n",
    "        image=cv.cvtColor(image,cv.COLOR_RGB2BGR)\n",
    "        mp_d.draw_landmarks(image,results.face_landmarks,mp_h.FACEMESH_TESSELATION)\n",
    "        mp_d.draw_landmarks(image,results.right_hand_landmarks,mp_h.HAND_CONNECTIONS)\n",
    "        mp_d.draw_landmarks(image,results.left_hand_landmarks,mp_h.HAND_CONNECTIONS)\n",
    "        mp_d.draw_landmarks(image,results.pose_landmarks,mp_h.POSE_CONNECTIONS)\n",
    "        \n",
    "        cv.imshow('live feed',image)\n",
    "        if cv.waitKey(15) & 0xFF==ord('q'):\n",
    "               break\n",
    "\n",
    "cam.release()\n",
    "cv.destroyAllWindows()    "
   ]
  },
  {
   "cell_type": "code",
   "execution_count": null,
   "id": "46362df2-9924-4dbf-9425-d10672c67b86",
   "metadata": {},
   "outputs": [],
   "source": []
  },
  {
   "cell_type": "code",
   "execution_count": null,
   "id": "77abb759-f83b-4c97-aa39-44234a748a6f",
   "metadata": {},
   "outputs": [],
   "source": []
  },
  {
   "cell_type": "code",
   "execution_count": null,
   "id": "8eca6bf1-8a81-4f71-81c0-427759f99e79",
   "metadata": {},
   "outputs": [],
   "source": []
  }
 ],
 "metadata": {
  "kernelspec": {
   "display_name": "Python 3",
   "language": "python",
   "name": "python3"
  },
  "language_info": {
   "codemirror_mode": {
    "name": "ipython",
    "version": 3
   },
   "file_extension": ".py",
   "mimetype": "text/x-python",
   "name": "python",
   "nbconvert_exporter": "python",
   "pygments_lexer": "ipython3",
   "version": "3.8.8"
  }
 },
 "nbformat": 4,
 "nbformat_minor": 5
}
