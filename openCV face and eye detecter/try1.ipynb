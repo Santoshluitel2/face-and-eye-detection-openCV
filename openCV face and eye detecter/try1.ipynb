{
 "cells": [
  {
   "cell_type": "code",
   "execution_count": 117,
   "metadata": {},
   "outputs": [
    {
     "name": "stdout",
     "output_type": "stream",
     "text": [
      "Using matplotlib backend: Qt5Agg\n"
     ]
    }
   ],
   "source": [
    "import cv2 as cv\n",
    "%matplotlib auto"
   ]
  },
  {
   "cell_type": "code",
   "execution_count": 132,
   "metadata": {},
   "outputs": [
    {
     "data": {
      "text/plain": [
       "-1"
      ]
     },
     "execution_count": 132,
     "metadata": {},
     "output_type": "execute_result"
    }
   ],
   "source": [
    "#reading and displaying the image\n",
    "image=cv.imread('img.jpg')\n",
    "#('random',image)\n",
    "cv.waitKey(0)"
   ]
  },
  {
   "cell_type": "code",
   "execution_count": 133,
   "metadata": {},
   "outputs": [
    {
     "data": {
      "text/plain": [
       "-1"
      ]
     },
     "execution_count": 133,
     "metadata": {},
     "output_type": "execute_result"
    }
   ],
   "source": [
    "\n",
    "width = int(image.shape[1] * 0.3)\n",
    "height = int(image.shape[0] *0.3)\n",
    "dim = (width, height)  \n",
    "# resize image\n",
    "resized = cv.resize(image, dim, interpolation = cv.INTER_AREA)\n",
    "#cv.imshow('random',resized)\n",
    "cv.waitKey(0)\n"
   ]
  },
  {
   "cell_type": "code",
   "execution_count": 134,
   "metadata": {},
   "outputs": [
    {
     "data": {
      "text/plain": [
       "-1"
      ]
     },
     "execution_count": 134,
     "metadata": {},
     "output_type": "execute_result"
    }
   ],
   "source": [
    "#changing to gray\n",
    "gray=cv.cvtColor(resized,cv.COLOR_BGR2GRAY)\n",
    "#cv.imshow('skfd',gray)\n",
    "cv.waitKey(0)\n"
   ]
  },
  {
   "cell_type": "code",
   "execution_count": 135,
   "metadata": {},
   "outputs": [],
   "source": [
    "#function to detect face\n",
    "def face():\n",
    "      newimg=resized.copy()\n",
    "      haar = cv.CascadeClassifier('face.xml')\n",
    "      faces = haar.detectMultiScale(gray, scaleFactor=1.05, minNeighbors=5)\n",
    "      for (x,y,a,b) in faces:\n",
    "               cv.rectangle(newimg, (x,y), (x+a,y+b), (0,255,0), thickness=2)    \n",
    "      cv.imshow('detected',newimg)   \n"
   ]
  },
  {
   "cell_type": "code",
   "execution_count": 142,
   "metadata": {},
   "outputs": [],
   "source": [
    "#function to detect eyes\n",
    "def eye():\n",
    "    newimg1=resized.copy()\n",
    "    haar1=cv.CascadeClassifier('eyes.xml')\n",
    "    smile=haar1.detectMultiScale(gray,scaleFactor=1.17,minNeighbors=4)\n",
    "    for (x2,y2,w2,h2) in smile:\n",
    "        eye_center = ( x2 + w2//2,  y2 + h2//2)\n",
    "        radius = int(round((w2 + h2)*0.25))\n",
    "        cv.circle(newimg1, eye_center, radius, (255, 0, 0 ), 4)\n",
    "        cv.imshow('detected',newimg1) \n",
    "    \n",
    "      \n"
   ]
  },
  {
   "cell_type": "code",
   "execution_count": 144,
   "metadata": {},
   "outputs": [],
   "source": [
    "face()"
   ]
  },
  {
   "cell_type": "code",
   "execution_count": 145,
   "metadata": {},
   "outputs": [],
   "source": [
    "eye()"
   ]
  },
  {
   "cell_type": "code",
   "execution_count": null,
   "metadata": {},
   "outputs": [],
   "source": []
  },
  {
   "cell_type": "code",
   "execution_count": null,
   "metadata": {},
   "outputs": [],
   "source": []
  }
 ],
 "metadata": {
  "kernelspec": {
   "display_name": "Python 3",
   "language": "python",
   "name": "python3"
  },
  "language_info": {
   "codemirror_mode": {
    "name": "ipython",
    "version": 3
   },
   "file_extension": ".py",
   "mimetype": "text/x-python",
   "name": "python",
   "nbconvert_exporter": "python",
   "pygments_lexer": "ipython3",
   "version": "3.8.8"
  }
 },
 "nbformat": 4,
 "nbformat_minor": 4
}
